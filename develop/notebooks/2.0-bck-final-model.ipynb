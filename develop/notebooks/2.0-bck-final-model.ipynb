{
 "cells": [
  {
   "cell_type": "code",
   "execution_count": 15,
   "metadata": {},
   "outputs": [],
   "source": [
    "import os\n",
    "import pandas as pd\n",
    "import numpy as np\n",
    "import math\n",
    "import matplotlib.pyplot as plt\n",
    "from sklearn.ensemble import RandomForestClassifier\n",
    "from sklearn.tree import export_graphviz"
   ]
  },
  {
   "cell_type": "markdown",
   "metadata": {},
   "source": [
    "# Read in Data\n"
   ]
  },
  {
   "cell_type": "code",
   "execution_count": 2,
   "metadata": {},
   "outputs": [
    {
     "data": {
      "text/html": [
       "<div>\n",
       "<style scoped>\n",
       "    .dataframe tbody tr th:only-of-type {\n",
       "        vertical-align: middle;\n",
       "    }\n",
       "\n",
       "    .dataframe tbody tr th {\n",
       "        vertical-align: top;\n",
       "    }\n",
       "\n",
       "    .dataframe thead th {\n",
       "        text-align: right;\n",
       "    }\n",
       "</style>\n",
       "<table border=\"1\" class=\"dataframe\">\n",
       "  <thead>\n",
       "    <tr style=\"text-align: right;\">\n",
       "      <th></th>\n",
       "      <th>OutcomeType</th>\n",
       "      <th>gender</th>\n",
       "      <th>hasName</th>\n",
       "      <th>ageWeeks</th>\n",
       "      <th>isDog</th>\n",
       "      <th>isMix</th>\n",
       "      <th>month</th>\n",
       "      <th>weekday</th>\n",
       "      <th>hourOfDay</th>\n",
       "      <th>isFixed</th>\n",
       "      <th>newBreed</th>\n",
       "      <th>newColor</th>\n",
       "    </tr>\n",
       "  </thead>\n",
       "  <tbody>\n",
       "    <tr>\n",
       "      <th>0</th>\n",
       "      <td>Return_to_owner</td>\n",
       "      <td>Male</td>\n",
       "      <td>1</td>\n",
       "      <td>52.0</td>\n",
       "      <td>1</td>\n",
       "      <td>1</td>\n",
       "      <td>2</td>\n",
       "      <td>Wednesday</td>\n",
       "      <td>18</td>\n",
       "      <td>1</td>\n",
       "      <td>Other</td>\n",
       "      <td>Brown/White</td>\n",
       "    </tr>\n",
       "    <tr>\n",
       "      <th>1</th>\n",
       "      <td>Euthanasia</td>\n",
       "      <td>Female</td>\n",
       "      <td>1</td>\n",
       "      <td>52.0</td>\n",
       "      <td>0</td>\n",
       "      <td>1</td>\n",
       "      <td>10</td>\n",
       "      <td>Sunday</td>\n",
       "      <td>12</td>\n",
       "      <td>1</td>\n",
       "      <td>Domestic Shorthair Mix</td>\n",
       "      <td>Other</td>\n",
       "    </tr>\n",
       "    <tr>\n",
       "      <th>2</th>\n",
       "      <td>Adoption</td>\n",
       "      <td>Male</td>\n",
       "      <td>1</td>\n",
       "      <td>104.0</td>\n",
       "      <td>1</td>\n",
       "      <td>1</td>\n",
       "      <td>1</td>\n",
       "      <td>Saturday</td>\n",
       "      <td>12</td>\n",
       "      <td>1</td>\n",
       "      <td>Pit Bull Mix</td>\n",
       "      <td>Blue/White</td>\n",
       "    </tr>\n",
       "    <tr>\n",
       "      <th>3</th>\n",
       "      <td>Transfer</td>\n",
       "      <td>Male</td>\n",
       "      <td>0</td>\n",
       "      <td>3.0</td>\n",
       "      <td>0</td>\n",
       "      <td>1</td>\n",
       "      <td>7</td>\n",
       "      <td>Friday</td>\n",
       "      <td>19</td>\n",
       "      <td>0</td>\n",
       "      <td>Domestic Shorthair Mix</td>\n",
       "      <td>Other</td>\n",
       "    </tr>\n",
       "    <tr>\n",
       "      <th>4</th>\n",
       "      <td>Transfer</td>\n",
       "      <td>Male</td>\n",
       "      <td>0</td>\n",
       "      <td>104.0</td>\n",
       "      <td>1</td>\n",
       "      <td>0</td>\n",
       "      <td>11</td>\n",
       "      <td>Friday</td>\n",
       "      <td>12</td>\n",
       "      <td>1</td>\n",
       "      <td>Other</td>\n",
       "      <td>Tan</td>\n",
       "    </tr>\n",
       "  </tbody>\n",
       "</table>\n",
       "</div>"
      ],
      "text/plain": [
       "       OutcomeType  gender  hasName  ageWeeks  isDog  isMix  month    weekday  \\\n",
       "0  Return_to_owner    Male        1      52.0      1      1      2  Wednesday   \n",
       "1       Euthanasia  Female        1      52.0      0      1     10     Sunday   \n",
       "2         Adoption    Male        1     104.0      1      1      1   Saturday   \n",
       "3         Transfer    Male        0       3.0      0      1      7     Friday   \n",
       "4         Transfer    Male        0     104.0      1      0     11     Friday   \n",
       "\n",
       "   hourOfDay  isFixed                newBreed     newColor  \n",
       "0         18        1                   Other  Brown/White  \n",
       "1         12        1  Domestic Shorthair Mix        Other  \n",
       "2         12        1            Pit Bull Mix   Blue/White  \n",
       "3         19        0  Domestic Shorthair Mix        Other  \n",
       "4         12        1                   Other          Tan  "
      ]
     },
     "execution_count": 2,
     "metadata": {},
     "output_type": "execute_result"
    }
   ],
   "source": [
    "#read in processed data \n",
    "train = pd.read_csv('..\\\\data\\\\processed\\\\trainset.csv')\n",
    "test = pd.read_csv('..\\\\data\\\\processed\\\\testset.csv')\n",
    "train.head()"
   ]
  },
  {
   "cell_type": "markdown",
   "metadata": {},
   "source": [
    "# Transform Data"
   ]
  },
  {
   "cell_type": "code",
   "execution_count": 3,
   "metadata": {},
   "outputs": [
    {
     "data": {
      "text/html": [
       "<div>\n",
       "<style scoped>\n",
       "    .dataframe tbody tr th:only-of-type {\n",
       "        vertical-align: middle;\n",
       "    }\n",
       "\n",
       "    .dataframe tbody tr th {\n",
       "        vertical-align: top;\n",
       "    }\n",
       "\n",
       "    .dataframe thead th {\n",
       "        text-align: right;\n",
       "    }\n",
       "</style>\n",
       "<table border=\"1\" class=\"dataframe\">\n",
       "  <thead>\n",
       "    <tr style=\"text-align: right;\">\n",
       "      <th></th>\n",
       "      <th>OutcomeType</th>\n",
       "      <th>ageWeeks</th>\n",
       "      <th>gender_Female</th>\n",
       "      <th>gender_Male</th>\n",
       "      <th>gender_Unknown</th>\n",
       "      <th>hasName_0</th>\n",
       "      <th>hasName_1</th>\n",
       "      <th>isDog_0</th>\n",
       "      <th>isDog_1</th>\n",
       "      <th>isMix_0</th>\n",
       "      <th>...</th>\n",
       "      <th>newColor_Red/White</th>\n",
       "      <th>newColor_Tan</th>\n",
       "      <th>newColor_Tan/White</th>\n",
       "      <th>newColor_Torbie</th>\n",
       "      <th>newColor_Tortie</th>\n",
       "      <th>newColor_Tricolor</th>\n",
       "      <th>newColor_White</th>\n",
       "      <th>newColor_White/Black</th>\n",
       "      <th>newColor_White/Brown</th>\n",
       "      <th>newColor_White/Tan</th>\n",
       "    </tr>\n",
       "  </thead>\n",
       "  <tbody>\n",
       "    <tr>\n",
       "      <th>0</th>\n",
       "      <td>Return_to_owner</td>\n",
       "      <td>52.0</td>\n",
       "      <td>0</td>\n",
       "      <td>1</td>\n",
       "      <td>0</td>\n",
       "      <td>0</td>\n",
       "      <td>1</td>\n",
       "      <td>0</td>\n",
       "      <td>1</td>\n",
       "      <td>0</td>\n",
       "      <td>...</td>\n",
       "      <td>0</td>\n",
       "      <td>0</td>\n",
       "      <td>0</td>\n",
       "      <td>0</td>\n",
       "      <td>0</td>\n",
       "      <td>0</td>\n",
       "      <td>0</td>\n",
       "      <td>0</td>\n",
       "      <td>0</td>\n",
       "      <td>0</td>\n",
       "    </tr>\n",
       "    <tr>\n",
       "      <th>1</th>\n",
       "      <td>Euthanasia</td>\n",
       "      <td>52.0</td>\n",
       "      <td>1</td>\n",
       "      <td>0</td>\n",
       "      <td>0</td>\n",
       "      <td>0</td>\n",
       "      <td>1</td>\n",
       "      <td>1</td>\n",
       "      <td>0</td>\n",
       "      <td>0</td>\n",
       "      <td>...</td>\n",
       "      <td>0</td>\n",
       "      <td>0</td>\n",
       "      <td>0</td>\n",
       "      <td>0</td>\n",
       "      <td>0</td>\n",
       "      <td>0</td>\n",
       "      <td>0</td>\n",
       "      <td>0</td>\n",
       "      <td>0</td>\n",
       "      <td>0</td>\n",
       "    </tr>\n",
       "    <tr>\n",
       "      <th>2</th>\n",
       "      <td>Adoption</td>\n",
       "      <td>104.0</td>\n",
       "      <td>0</td>\n",
       "      <td>1</td>\n",
       "      <td>0</td>\n",
       "      <td>0</td>\n",
       "      <td>1</td>\n",
       "      <td>0</td>\n",
       "      <td>1</td>\n",
       "      <td>0</td>\n",
       "      <td>...</td>\n",
       "      <td>0</td>\n",
       "      <td>0</td>\n",
       "      <td>0</td>\n",
       "      <td>0</td>\n",
       "      <td>0</td>\n",
       "      <td>0</td>\n",
       "      <td>0</td>\n",
       "      <td>0</td>\n",
       "      <td>0</td>\n",
       "      <td>0</td>\n",
       "    </tr>\n",
       "    <tr>\n",
       "      <th>3</th>\n",
       "      <td>Transfer</td>\n",
       "      <td>3.0</td>\n",
       "      <td>0</td>\n",
       "      <td>1</td>\n",
       "      <td>0</td>\n",
       "      <td>1</td>\n",
       "      <td>0</td>\n",
       "      <td>1</td>\n",
       "      <td>0</td>\n",
       "      <td>0</td>\n",
       "      <td>...</td>\n",
       "      <td>0</td>\n",
       "      <td>0</td>\n",
       "      <td>0</td>\n",
       "      <td>0</td>\n",
       "      <td>0</td>\n",
       "      <td>0</td>\n",
       "      <td>0</td>\n",
       "      <td>0</td>\n",
       "      <td>0</td>\n",
       "      <td>0</td>\n",
       "    </tr>\n",
       "    <tr>\n",
       "      <th>4</th>\n",
       "      <td>Transfer</td>\n",
       "      <td>104.0</td>\n",
       "      <td>0</td>\n",
       "      <td>1</td>\n",
       "      <td>0</td>\n",
       "      <td>1</td>\n",
       "      <td>0</td>\n",
       "      <td>0</td>\n",
       "      <td>1</td>\n",
       "      <td>1</td>\n",
       "      <td>...</td>\n",
       "      <td>0</td>\n",
       "      <td>1</td>\n",
       "      <td>0</td>\n",
       "      <td>0</td>\n",
       "      <td>0</td>\n",
       "      <td>0</td>\n",
       "      <td>0</td>\n",
       "      <td>0</td>\n",
       "      <td>0</td>\n",
       "      <td>0</td>\n",
       "    </tr>\n",
       "  </tbody>\n",
       "</table>\n",
       "<p>5 rows × 114 columns</p>\n",
       "</div>"
      ],
      "text/plain": [
       "       OutcomeType  ageWeeks  gender_Female  gender_Male  gender_Unknown  \\\n",
       "0  Return_to_owner      52.0              0            1               0   \n",
       "1       Euthanasia      52.0              1            0               0   \n",
       "2         Adoption     104.0              0            1               0   \n",
       "3         Transfer       3.0              0            1               0   \n",
       "4         Transfer     104.0              0            1               0   \n",
       "\n",
       "   hasName_0  hasName_1  isDog_0  isDog_1  isMix_0         ...          \\\n",
       "0          0          1        0        1        0         ...           \n",
       "1          0          1        1        0        0         ...           \n",
       "2          0          1        0        1        0         ...           \n",
       "3          1          0        1        0        0         ...           \n",
       "4          1          0        0        1        1         ...           \n",
       "\n",
       "   newColor_Red/White  newColor_Tan  newColor_Tan/White  newColor_Torbie  \\\n",
       "0                   0             0                   0                0   \n",
       "1                   0             0                   0                0   \n",
       "2                   0             0                   0                0   \n",
       "3                   0             0                   0                0   \n",
       "4                   0             1                   0                0   \n",
       "\n",
       "   newColor_Tortie  newColor_Tricolor  newColor_White  newColor_White/Black  \\\n",
       "0                0                  0               0                     0   \n",
       "1                0                  0               0                     0   \n",
       "2                0                  0               0                     0   \n",
       "3                0                  0               0                     0   \n",
       "4                0                  0               0                     0   \n",
       "\n",
       "   newColor_White/Brown  newColor_White/Tan  \n",
       "0                     0                   0  \n",
       "1                     0                   0  \n",
       "2                     0                   0  \n",
       "3                     0                   0  \n",
       "4                     0                   0  \n",
       "\n",
       "[5 rows x 114 columns]"
      ]
     },
     "execution_count": 3,
     "metadata": {},
     "output_type": "execute_result"
    }
   ],
   "source": [
    "categorical = ['gender', 'hasName', 'isDog', 'isMix', 'month', 'weekday', 'hourOfDay', 'isFixed', 'newBreed', 'newColor']    \n",
    "\n",
    "# Convert data type as 'category'\n",
    "train_binary = train.copy()\n",
    "test_binary = test.copy()\n",
    "for i in categorical:\n",
    "    train_binary[i] = train_binary[i].astype('category')\n",
    "    test_binary[i] = test_binary[i].astype('category')\n",
    "    \n",
    "# Create dummy variables\n",
    "train_binary_dummy = pd.get_dummies(train_binary, columns = categorical)\n",
    "test_binary_dummy = pd.get_dummies(test_binary, columns = categorical)\n",
    "test_binary_dummy.drop('OutcomeType', axis=1, inplace=True)\n",
    "train_binary_dummy.head()"
   ]
  },
  {
   "cell_type": "code",
   "execution_count": 4,
   "metadata": {},
   "outputs": [
    {
     "data": {
      "text/plain": [
       "(11456, 113)"
      ]
     },
     "execution_count": 4,
     "metadata": {},
     "output_type": "execute_result"
    }
   ],
   "source": [
    "train_binary_dummy.shape\n",
    "test_binary_dummy.shape"
   ]
  },
  {
   "cell_type": "markdown",
   "metadata": {},
   "source": [
    "# Fit Random Forest"
   ]
  },
  {
   "cell_type": "code",
   "execution_count": 5,
   "metadata": {},
   "outputs": [],
   "source": [
    "def fit_randomforest(x_train, y_train, max_features=\"auto\"):\n",
    "    num_trees = 250\n",
    "    SEED = 12345\n",
    "    model = RandomForestClassifier(n_estimators=num_trees, max_features=max_features, random_state=SEED)\n",
    "    model.fit(x_train, y_train)\n",
    "    \n",
    "    return model"
   ]
  },
  {
   "cell_type": "code",
   "execution_count": 6,
   "metadata": {},
   "outputs": [],
   "source": [
    "# train\n",
    "y_train = train_binary_dummy['OutcomeType']\n",
    "x_train = train_binary_dummy.drop('OutcomeType', axis=1)\n",
    "model_rf = fit_randomforest(x_train, y_train)\n"
   ]
  },
  {
   "cell_type": "code",
   "execution_count": 7,
   "metadata": {},
   "outputs": [
    {
     "name": "stdout",
     "output_type": "stream",
     "text": [
      "(113,)\n"
     ]
    },
    {
     "data": {
      "text/plain": [
       "pandas.core.indexes.base.Index"
      ]
     },
     "execution_count": 7,
     "metadata": {},
     "output_type": "execute_result"
    }
   ],
   "source": [
    "print(x_train.columns.shape)\n",
    "type(x_train.columns)"
   ]
  },
  {
   "cell_type": "code",
   "execution_count": 8,
   "metadata": {},
   "outputs": [
    {
     "data": {
      "text/plain": [
       "sklearn.ensemble.forest.RandomForestClassifier"
      ]
     },
     "execution_count": 8,
     "metadata": {},
     "output_type": "execute_result"
    }
   ],
   "source": [
    "type(model_rf)"
   ]
  },
  {
   "cell_type": "markdown",
   "metadata": {},
   "source": [
    "# Feature Importance"
   ]
  },
  {
   "cell_type": "code",
   "execution_count": 20,
   "metadata": {},
   "outputs": [
    {
     "data": {
      "text/html": [
       "<div>\n",
       "<style scoped>\n",
       "    .dataframe tbody tr th:only-of-type {\n",
       "        vertical-align: middle;\n",
       "    }\n",
       "\n",
       "    .dataframe tbody tr th {\n",
       "        vertical-align: top;\n",
       "    }\n",
       "\n",
       "    .dataframe thead th {\n",
       "        text-align: right;\n",
       "    }\n",
       "</style>\n",
       "<table border=\"1\" class=\"dataframe\">\n",
       "  <thead>\n",
       "    <tr style=\"text-align: right;\">\n",
       "      <th></th>\n",
       "      <th>importance</th>\n",
       "    </tr>\n",
       "  </thead>\n",
       "  <tbody>\n",
       "    <tr>\n",
       "      <th>ageWeeks</th>\n",
       "      <td>0.151881</td>\n",
       "    </tr>\n",
       "    <tr>\n",
       "      <th>isFixed_1</th>\n",
       "      <td>0.064751</td>\n",
       "    </tr>\n",
       "    <tr>\n",
       "      <th>isFixed_0</th>\n",
       "      <td>0.060198</td>\n",
       "    </tr>\n",
       "    <tr>\n",
       "      <th>hasName_0</th>\n",
       "      <td>0.024850</td>\n",
       "    </tr>\n",
       "    <tr>\n",
       "      <th>hasName_1</th>\n",
       "      <td>0.024491</td>\n",
       "    </tr>\n",
       "    <tr>\n",
       "      <th>newColor_Other</th>\n",
       "      <td>0.018846</td>\n",
       "    </tr>\n",
       "    <tr>\n",
       "      <th>hourOfDay_17</th>\n",
       "      <td>0.014543</td>\n",
       "    </tr>\n",
       "    <tr>\n",
       "      <th>month_12</th>\n",
       "      <td>0.014432</td>\n",
       "    </tr>\n",
       "    <tr>\n",
       "      <th>month_10</th>\n",
       "      <td>0.014098</td>\n",
       "    </tr>\n",
       "    <tr>\n",
       "      <th>hourOfDay_18</th>\n",
       "      <td>0.013867</td>\n",
       "    </tr>\n",
       "    <tr>\n",
       "      <th>month_11</th>\n",
       "      <td>0.013718</td>\n",
       "    </tr>\n",
       "    <tr>\n",
       "      <th>newColor_Black/White</th>\n",
       "      <td>0.013713</td>\n",
       "    </tr>\n",
       "    <tr>\n",
       "      <th>weekday_Monday</th>\n",
       "      <td>0.013548</td>\n",
       "    </tr>\n",
       "    <tr>\n",
       "      <th>gender_Female</th>\n",
       "      <td>0.013463</td>\n",
       "    </tr>\n",
       "    <tr>\n",
       "      <th>gender_Male</th>\n",
       "      <td>0.013435</td>\n",
       "    </tr>\n",
       "  </tbody>\n",
       "</table>\n",
       "</div>"
      ],
      "text/plain": [
       "                      importance\n",
       "ageWeeks                0.151881\n",
       "isFixed_1               0.064751\n",
       "isFixed_0               0.060198\n",
       "hasName_0               0.024850\n",
       "hasName_1               0.024491\n",
       "newColor_Other          0.018846\n",
       "hourOfDay_17            0.014543\n",
       "month_12                0.014432\n",
       "month_10                0.014098\n",
       "hourOfDay_18            0.013867\n",
       "month_11                0.013718\n",
       "newColor_Black/White    0.013713\n",
       "weekday_Monday          0.013548\n",
       "gender_Female           0.013463\n",
       "gender_Male             0.013435"
      ]
     },
     "execution_count": 20,
     "metadata": {},
     "output_type": "execute_result"
    }
   ],
   "source": [
    "feature_importances = pd.DataFrame(model_rf.feature_importances_,index = x_train.columns,columns=['importance']).sort_values('importance', ascending=False)\n",
    "feature_importances.head(15)"
   ]
  },
  {
   "cell_type": "code",
   "execution_count": 17,
   "metadata": {},
   "outputs": [
    {
     "data": {
      "image/png": "[encoded data removed]",
      "text/plain": [
       "<matplotlib.figure.Figure at 0x218b39bd048>"
      ]
     },
     "metadata": {},
     "output_type": "display_data"
    }
   ],
   "source": [
    "features = x_train.columns\n",
    "importances = model_rf.feature_importances_\n",
    "indices = np.argsort(importances)\n",
    "\n",
    "plt.title('Feature Importances')\n",
    "plt.barh(range(len(indices)), importances[indices], color='b', align='center')\n",
    "plt.yticks(range(len(indices)), features[indices])\n",
    "plt.xlabel('Relative Importance')\n",
    "plt.show()"
   ]
  },
  {
   "cell_type": "markdown",
   "metadata": {},
   "source": [
    "# Test Model"
   ]
  },
  {
   "cell_type": "code",
   "execution_count": 32,
   "metadata": {},
   "outputs": [
    {
     "name": "stdout",
     "output_type": "stream",
     "text": [
      "    Adoption  Died  Euthanasia  Return_to_owner  Transfer\n",
      "ID                                                       \n",
      "1      0.016   0.0       0.076            0.212     0.696\n",
      "2      0.696   0.0       0.000            0.116     0.188\n",
      "3      0.112   0.0       0.008            0.644     0.236\n",
      "4      0.208   0.0       0.048            0.204     0.540\n",
      "5      0.382   0.0       0.000            0.562     0.056\n"
     ]
    }
   ],
   "source": [
    "# test\n",
    "predicted = pd.DataFrame(model_rf.predict_proba(test_binary_dummy))\n",
    "predicted.columns = ['Adoption', 'Died', 'Euthanasia', 'Return_to_owner', 'Transfer']\n",
    "predicted.reset_index()\n",
    "predicted.index += 1\n",
    "predicted.index.name = 'ID'\n",
    "print(predicted.head())\n",
    "\n",
    "predicted.to_csv('submission.csv')"
   ]
  },
  {
   "cell_type": "code",
   "execution_count": 33,
   "metadata": {},
   "outputs": [
    {
     "data": {
      "text/plain": [
       "(11456, 5)"
      ]
     },
     "execution_count": 33,
     "metadata": {},
     "output_type": "execute_result"
    }
   ],
   "source": [
    "predicted.shape"
   ]
  }
 ],
 "metadata": {
  "kernelspec": {
   "display_name": "Python 3",
   "language": "python",
   "name": "python3"
  },
  "language_info": {
   "codemirror_mode": {
    "name": "ipython",
    "version": 3
   },
   "file_extension": ".py",
   "mimetype": "text/x-python",
   "name": "python",
   "nbconvert_exporter": "python",
   "pygments_lexer": "ipython3",
   "version": "3.6.4"
  }
 },
 "nbformat": 4,
 "nbformat_minor": 2
}
